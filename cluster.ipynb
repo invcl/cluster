{
 "cells": [
  {
   "cell_type": "code",
   "execution_count": 168,
   "id": "5b5974c4-80a2-4658-94a0-500620d852de",
   "metadata": {},
   "outputs": [],
   "source": [
    "using MultivariatePolynomials\n",
    "using MultivariateMoments\n",
    "using SemialgebraicSets\n",
    "using JuMP\n",
    "using PolyJuMP\n",
    "using SumOfSquares\n",
    "using DynamicPolynomials\n",
    "using MosekTools"
   ]
  },
  {
   "cell_type": "code",
   "execution_count": 169,
   "id": "09d276ff-3dc1-40ab-9b13-595a97ca28c5",
   "metadata": {},
   "outputs": [
    {
     "data": {
      "text/plain": [
       "Polynomial{true, Float64}[]"
      ]
     },
     "execution_count": 169,
     "metadata": {},
     "output_type": "execute_result"
    }
   ],
   "source": [
    "include(\"code/data/dubins.jl\")"
   ]
  },
  {
   "cell_type": "code",
   "execution_count": 3,
   "id": "60660a5d-d95f-429f-b158-197180b8aa67",
   "metadata": {},
   "outputs": [
    {
     "data": {
      "text/plain": [
       "compute_moments (generic function with 1 method)"
      ]
     },
     "execution_count": 3,
     "metadata": {},
     "output_type": "execute_result"
    }
   ],
   "source": [
    "function compute_moments(parameter_list)\n",
    "    # the range of parameters is assumed to be scaled to [-1, 1]^N\n",
    "    # compute moments\n",
    "    # moments[i]: the moment of paraList[i]\n",
    "    moments = map(parameter_list) do var\n",
    "        expList = exponents(var)\n",
    "        acc = 1.0\n",
    "        for i=1:length(expList)\n",
    "            upperval = (1.0 / (expList[i] + 1.0)) * (1.0)^(expList[i] + 1.0)\n",
    "            lowerval = (1.0 / (expList[i] + 1.0)) * (-1.0 )^(expList[i] + 1.0)\n",
    "            acc *= (upperval - lowerval)\n",
    "        end\n",
    "        return acc\n",
    "    end\n",
    "    return moments\n",
    "end"
   ]
  },
  {
   "cell_type": "code",
   "execution_count": 174,
   "id": "d0893833-5b28-478b-a4e4-85e55c2b2823",
   "metadata": {},
   "outputs": [
    {
     "data": {
      "text/plain": [
       "computeR_p (generic function with 1 method)"
      ]
     },
     "execution_count": 174,
     "metadata": {},
     "output_type": "execute_result"
    }
   ],
   "source": [
    "# computeR: return p(a), p(a) <= 0 underapproximates the valid set R\n",
    "# parameter_list is the monomials used to form p(a)\n",
    "function computeR_p(H, g, parameter_list, box_constriants)\n",
    "    # @show H g box_constriants\n",
    "    # H[i] is a list of polynomials representing the requirements,\n",
    "    # g is the polynomial representing the result\n",
    "    # the definition of valid set R: H[i] <= 0 implies g <= 0\n",
    "    \n",
    "    # m: the model\n",
    "    m = SOSModel(optimizer_with_attributes(Mosek.Optimizer, \"QUIET\" => true))\n",
    "    # p[i]: the (unknown) coefficients of p(a), p[i] corresponds to the monomial paraList[i]\n",
    "    @variable(m, p[1:length(parameter_list)])\n",
    "    poly = sum(p[i] * parameter_list[i] for i=1:length(p))\n",
    "\n",
    "    # S is the feasible range (i.e. H[i] <= 0, a[i] and x[i] satisfies box_constraints)\n",
    "    # S_box: only the box constaints (i.e. S without H[i] <= 0)\n",
    "    \n",
    "    # adding -H[i] >= 0\n",
    "    S = basicsemialgebraicset(FullSpace(), -H)\n",
    "    # adding box_constraints\n",
    "    S_box = basicsemialgebraicset(FullSpace(), -box_constriants)\n",
    "    \n",
    "    S = intersect(S, S_box)\n",
    "    \n",
    "    \n",
    "    # ϵ is the relaxation used in Putinar's Positivstellsatz,\n",
    "    # it makes the hierarchy converges faster\n",
    "    ϵ = 0.01; M = 10.0\n",
    "    \n",
    "    #the first constraint in m\n",
    "    @constraint(m, poly-g + ϵ >= 0, domain = S, maxdegree = 6)\n",
    "    \n",
    "    #the second constriant in m\n",
    "    @constraint(m, poly + ϵ >= -M, domain = S_box, maxdegree = 6)\n",
    "    \n",
    "    moments = compute_moments(parameter_list)\n",
    "    #obj: objective function, minimizing the integral of p(a) over S\n",
    "    obj = sum(moments[i] * p[i] for i=1:length(p))\n",
    "    @objective(m, Min, obj)\n",
    "    \n",
    "    optimize!(m)\n",
    "    @show termination_status(m)\n",
    "    pvalue = value.(p)\n",
    "    return sum(pvalue[i] * parameter_list[i] for i = 1:length(parameter_list))\n",
    "end"
   ]
  },
  {
   "cell_type": "code",
   "execution_count": 5,
   "id": "b8c7b347-e577-4734-a254-39e4056d6b0b",
   "metadata": {},
   "outputs": [
    {
     "data": {
      "text/plain": [
       "scale_range (generic function with 1 method)"
      ]
     },
     "execution_count": 5,
     "metadata": {},
     "output_type": "execute_result"
    }
   ],
   "source": [
    "function scale_range(poly, vars, range_before, range_after)\n",
    "    old_vars = map(1:length(vars)) do i\n",
    "        length_before = range_before[i][2] - range_before[i][1]\n",
    "        length_after = range_after[i][2] - range_after[i][1]\n",
    "        multiplier = length_before / length_after\n",
    "        multiplier * (vars[i] - range_after[i][1]) + range_before[i][1]\n",
    "    end\n",
    "    scaled_poly = subs(poly, vars => old_vars)\n",
    "    return scaled_poly\n",
    "end"
   ]
  },
  {
   "cell_type": "code",
   "execution_count": 6,
   "id": "ff31185e-16f0-4d44-b65b-8ebf3321b44f",
   "metadata": {},
   "outputs": [
    {
     "data": {
      "text/plain": [
       "make_box_constraints (generic function with 1 method)"
      ]
     },
     "execution_count": 6,
     "metadata": {},
     "output_type": "execute_result"
    }
   ],
   "source": [
    "function make_box_constraints(a, x, rangeA, rangeX)\n",
    "    # making box constraints\n",
    "    ADIM = length(rangeA) \n",
    "    XDIM = length(rangeX)\n",
    "    greater_than_a = [rangeA[i][1] - a[i] for i in 1:ADIM]\n",
    "    less_than_a = [a[i] - rangeA[i][2] for i in 1:ADIM]\n",
    "    greater_than_x = [rangeX[i][1] - x[i] for i in 1:XDIM]\n",
    "    less_than_x = [x[i] - rangeX[i][2] for i in 1:XDIM]\n",
    "\n",
    "    box_constraints = [greater_than_a; less_than_a; greater_than_x; less_than_x]\n",
    "    return box_constraints\n",
    "end"
   ]
  },
  {
   "cell_type": "code",
   "execution_count": 7,
   "id": "6ad2a386-c563-4a20-8660-f861535b64ea",
   "metadata": {},
   "outputs": [
    {
     "data": {
      "text/plain": [
       "eval_poly (generic function with 1 method)"
      ]
     },
     "execution_count": 7,
     "metadata": {},
     "output_type": "execute_result"
    }
   ],
   "source": [
    "function eval_poly(a, p, var)\n",
    "    return leadingcoefficient(subs(p, a => var))\n",
    "end"
   ]
  },
  {
   "cell_type": "code",
   "execution_count": 9,
   "id": "ac0829cf-cefa-4585-881b-348361dca82f",
   "metadata": {},
   "outputs": [
    {
     "data": {
      "text/plain": [
       "Polynomial{true, Float64}[]"
      ]
     },
     "execution_count": 9,
     "metadata": {},
     "output_type": "execute_result"
    }
   ],
   "source": [
    "notloopcond = Polynomial{true, Float64}[]"
   ]
  },
  {
   "cell_type": "code",
   "execution_count": 175,
   "id": "41140cb9-4490-4798-a42b-58d6ae820e21",
   "metadata": {},
   "outputs": [],
   "source": [
    "# scale the range of parameters to [-1, 1]\n",
    "rangeA_scaled = fill((-1, 1), length(rangeA))\n",
    "template_scaled = scale_range(template, a, rangeA, rangeA_scaled)\n",
    "\n",
    "# approximation polynomial p_i will be chosen from \n",
    "# linear combinations of these monomials\n",
    "parameter_list = monomials(Tuple(a), 0:ADEG)\n",
    "    \n",
    "# NextX: the mapped result of the loop body\n",
    "Next_x = [F_next[i](x) for i in 1:length(F_next)]\n",
    "# templateNext: what template would be after such a mapping\n",
    "Template_scaled_next = [subs(template_scaled, x => Next_x[i]) for i in 1:length(F_next)]\n",
    "    \n",
    "box_constraints = make_box_constraints(a, x, rangeA_scaled, rangeX);"
   ]
  },
  {
   "cell_type": "code",
   "execution_count": null,
   "id": "e5862054-97ab-4d57-8d45-b9bb40932467",
   "metadata": {},
   "outputs": [],
   "source": [
    "computeR(H, g) = computeR_p(H, g, parameter_list, box_constraints)"
   ]
  },
  {
   "cell_type": "code",
   "execution_count": 176,
   "id": "ecb5ec60-c8ea-4b97-8bb0-8f7dd4bc593e",
   "metadata": {},
   "outputs": [
    {
     "name": "stdout",
     "output_type": "stream",
     "text": [
      "termination_status(m) = MathOptInterface.OPTIMAL\n",
      "termination_status(m) = MathOptInterface.OPTIMAL\n",
      "termination_status(m) = MathOptInterface.OPTIMAL\n"
     ]
    },
    {
     "data": {
      "text/plain": [
       "3-element Vector{Polynomial{true, Float64}}:\n",
       " -0.013344954559285813a₁⁴ - 2.9013470941040853e-11a₁³a₂ + 4.8163229130652916e-8a₁²a₂² - 2.9635930431746084e-11a₁a₂³ + 8.413872624217831e-8a₂⁴ - 1.0645601259679819e-7a₁³ - 6.302510690024504e-11a₁²a₂ + 1.73641157247083e-8a₁a₂² - 2.0940028516410615e-11a₂³ + 0.03328852618517408a₁² + 1.730194038830356e-11a₁a₂ - 9.390711534727876e-8a₂² - 0.024999831350335643a₁ + 1.999999999916376a₂ - 0.004943647302993286\n",
       " 4.1527452834623597e-5a₁⁴ - 0.0003362765417953351a₁³a₂ - 0.00948287323067512a₁²a₂² - 0.14545625900787604a₁a₂³ - 2.7791953985110838a₂⁴ + 0.000620337735918739a₁³ + 0.007804208357337266a₁²a₂ - 0.26716353317215036a₁a₂² - 7.254796042436476a₂³ + 0.016831951069121713a₁² + 0.2302712725800459a₁a₂ - 2.6952574937325777a₂² + 0.19209102466819664a₁ + 1.839971628961851a₂ + 0.8808531725361263\n",
       " 0.0005984319422470565a₁⁴ + 0.0014005266352129203a₁³a₂ + 0.012796155365927021a₁²a₂² - 0.16441660921824125a₁a₂³ - 1.9665496032379177a₂⁴ - 0.0014285363619307837a₁³ - 0.0385109364627334a₁²a₂ - 0.1485400054081287a₁a₂² - 3.4692429476481315a₂³ + 0.02497952991009547a₁² + 0.20162290235941438a₁a₂ - 0.7536553222135557a₂² + 0.11135421417245826a₁ - 1.1415158029848262a₂ - 2.6788031305020894"
      ]
     },
     "execution_count": 176,
     "metadata": {},
     "output_type": "execute_result"
    }
   ],
   "source": [
    "computeR(H, g) = computeR_p(H, g, parameter_list, box_constraints)\n",
    "    \n",
    "p_pre = computeR([precond;additional_invariants], template_scaled)\n",
    "p_conds = [computeR([[template_scaled, Cond[i]]; loopcond; additional_invariants], Template_scaled_next[i]) for i in 1:length(Cond)]\n",
    "p_post = computeR([[template_scaled]; notloopcond; additional_invariants], postcond)\n",
    "#p_post = computeR([[template_scaled]; additional_invariants], postcond)\n",
    "\n",
    "p_list = [[p_pre];p_conds;[p_post]]"
   ]
  },
  {
   "cell_type": "code",
   "execution_count": 160,
   "id": "93e1e441-838d-4e98-994f-ea15c2ae0559",
   "metadata": {},
   "outputs": [
    {
     "name": "stdout",
     "output_type": "stream",
     "text": [
      "has_values(m) = true\n"
     ]
    },
    {
     "data": {
      "text/plain": [
       "3-element Vector{Polynomial{true, Float64}}:\n",
       " 0.021650569342070023a₁² - 1.555927650509029e-12a₁a₂ - 1.1280265735517452e-8a₂² - 0.02499991091477911a₁ + 1.999999999904377a₂ - 0.0027831811861453006\n",
       " 1.828097647331188e-5a₁² - 1.1597723277878178e-5a₁a₂ + 2.2096030291994417e-5a₂² + 1.087826813728331e-5a₁ - 0.00021794922449959827a₂ - 0.00989642922563894\n",
       " 0.029556438726938524a₁² - 0.02201594364910915a₁a₂ - 1.4636961505181014a₂² + 0.06336770668746328a₁ - 4.108447542146975a₂ - 4.423394517011363"
      ]
     },
     "execution_count": 160,
     "metadata": {},
     "output_type": "execute_result"
    }
   ],
   "source": [
    "postcond = -((x[1] - 3)^2 + x[2]^2 - 0.25) \n",
    "p_post = computeR([[template_scaled]; notloopcond; additional_invariants], postcond)\n",
    "p_list = [[p_pre];p_conds;[p_post]]"
   ]
  },
  {
   "cell_type": "code",
   "execution_count": 89,
   "id": "87f6e432-320f-45cd-ad53-f5c40a842349",
   "metadata": {},
   "outputs": [],
   "source": [
    "using BlackBoxOptim"
   ]
  },
  {
   "cell_type": "code",
   "execution_count": 90,
   "id": "06064d5a-094c-463c-bff3-112e44d3610d",
   "metadata": {},
   "outputs": [
    {
     "data": {
      "text/plain": [
       "search_valid_parameter_bboptim (generic function with 1 method)"
      ]
     },
     "execution_count": 90,
     "metadata": {},
     "output_type": "execute_result"
    }
   ],
   "source": [
    "# searching for a_0 such that p_list[i] <= 0 for all i\n",
    "function search_valid_parameter_bboptim(p_list, a, rangeA)\n",
    "    tolerance = 0.0\n",
    "    p_funs = map(p -> (var -> leadingcoefficient(subs(p, a => var))), p_list)    \n",
    "    function fitness_schaffer(var)\n",
    "        p_at = map(pf -> pf(var), p_funs)\n",
    "        return Tuple(p_at)\n",
    "    end\n",
    "    \n",
    "    result = bboptimize(fitness_schaffer; Method=:borg_moea,\n",
    "            FitnessScheme=ParetoFitnessScheme{length(p_funs)}(is_minimizing=true),\n",
    "            SearchRange=(-1.0, 1.0), NumDimensions=length(a), ϵ=0.05,\n",
    "            MaxTime=1.0, TraceInterval=1.0, TraceMode=:silent);\n",
    "    \n",
    "    for sol in pareto_frontier(result)\n",
    "        failed = false\n",
    "        for p_val in fitness(sol)\n",
    "            if p_val > tolerance\n",
    "                failed = true\n",
    "                break\n",
    "            end\n",
    "        end\n",
    "        if !failed\n",
    "            return (success = true, parameter = params(sol))\n",
    "        end\n",
    "    end\n",
    "    return (success = false, parameter = nothing)\n",
    "end       "
   ]
  },
  {
   "cell_type": "markdown",
   "id": "a8792cd8-c015-4714-86b9-b3d37d88a546",
   "metadata": {},
   "source": [
    "### searching for a_0 such that p_list[i] <= 0 for all i\n",
    "function search_valid_parameter_sos(p_list, a, rangeA, )\n",
    "    MAX_TRY = 10\n",
    "    c = ones(length(p_list))\n",
    "\n",
    "    for i in 1:MAX_TRY\n",
    "        msol = SOSModel(optimizer_with_attributes(Mosek.Optimizer, \"QUIET\" => true))\n",
    "        Sa = basicsemialgebraicset(FullSpace(), \n",
    "            [[a[i] - rangeA[i][1] for i in 1:ADIM];[rangeA[i][2] - a[i] for i in 1:ADIM]])\n",
    "        @variable(msol, lb)\n",
    "        @objective(msol, Max, lb)\n",
    "        \n",
    "        opt = sum([c[i] * p_list[i] for i in 1:length(p_list)])\n",
    "        consol = @constraint(msol, opt >= lb, domain = Sa)\n",
    "        \n",
    "        \n",
    "        optimize!(msol)\n",
    "        if objective_value(msol) > 1e-3\n",
    "            continue;\n",
    "        end\n",
    "        \n",
    "        # extract the minimizer\n",
    "        ν = moment_matrix(consol)\n",
    "        μ = extractatoms(ν, 1e-3)\n",
    "        if μ == nothing\n",
    "            # TODO: increase `maxdegree` in consol\n",
    "            continue\n",
    "        end\n",
    "        atoms = μ.atoms\n",
    "        minimizer = atoms[1].center\n",
    "        \n",
    "        failed = false\n",
    "        for i in 1:length(p_list)\n",
    "            #using a combination of `subs` and `leadingcoefficient` to evaluate\n",
    "            p_at = eval_poly(a, p_list[i], minimizer)\n",
    "            if p_at > 1e-3\n",
    "                c[i] *= 2\n",
    "                failed = true\n",
    "            end\n",
    "        end\n",
    "        \n",
    "        if !failed\n",
    "            return (success = true, parameter = minimizer)\n",
    "        end\n",
    "    end\n",
    "    \n",
    "    #In case minimizer extraction fails too many times\n",
    "    failed = false\n",
    "    for i in 1:length(p_list)\n",
    "        p_at = eval_poly(a, p_list[i], zeros(length(a)))\n",
    "        if p_at > 1e-3\n",
    "            @show p_list[i] p_at\n",
    "            failed = true\n",
    "            break\n",
    "        end\n",
    "    end\n",
    "    if !failed\n",
    "        return (success = true, parameter = zeros(length(a)))\n",
    "    else\n",
    "        return (success = false, parameter = nothing)\n",
    "    end\n",
    "end         "
   ]
  },
  {
   "cell_type": "code",
   "execution_count": 177,
   "id": "70414908-e4b1-4c26-8b4a-45dfd2b8dec7",
   "metadata": {},
   "outputs": [
    {
     "data": {
      "text/plain": [
       "(success = false, parameter = nothing)"
      ]
     },
     "execution_count": 177,
     "metadata": {},
     "output_type": "execute_result"
    }
   ],
   "source": [
    "result = search_valid_parameter_bboptim(p_list, a, rangeA_scaled)"
   ]
  },
  {
   "cell_type": "code",
   "execution_count": 163,
   "id": "6ef0f8bc-58ac-4cf7-a8ba-971ab2b38a44",
   "metadata": {},
   "outputs": [
    {
     "data": {
      "text/latex": [
       "$$ x_{1}^{2} + 0.965739116444029x_{2}^{2} - 1.931478232888058x_{2} - 1.675300999852464 $$"
      ],
      "text/plain": [
       "x₁² + 0.965739116444029x₂² - 1.931478232888058x₂ - 1.675300999852464"
      ]
     },
     "execution_count": 163,
     "metadata": {},
     "output_type": "execute_result"
    }
   ],
   "source": [
    "if result.success\n",
    "    invariant = subs(template_scaled, a => result.parameter)\n",
    "else\n",
    "    invariant = nothing\n",
    "end"
   ]
  },
  {
   "cell_type": "code",
   "execution_count": 154,
   "id": "0ec6e109-d2cb-451c-8a2e-2c8f8daf7931",
   "metadata": {},
   "outputs": [
    {
     "data": {
      "text/plain": [
       "3-element Vector{Float64}:\n",
       " -2.001769697884541\n",
       " -0.00969137055437036\n",
       " -0.2657914505171508"
      ]
     },
     "execution_count": 154,
     "metadata": {},
     "output_type": "execute_result"
    }
   ],
   "source": [
    "result_fitness = map(p -> eval_poly(a, p, result.parameter), p_list)"
   ]
  },
  {
   "cell_type": "code",
   "execution_count": 199,
   "id": "bf748c1a-4c91-4f48-a60c-fba453972112",
   "metadata": {},
   "outputs": [
    {
     "data": {
      "text/plain": [
       "3-element Vector{Float64}:\n",
       " -1.0949436677237472\n",
       "  0.006714865985127827\n",
       " -1.892431790242329"
      ]
     },
     "execution_count": 199,
     "metadata": {},
     "output_type": "execute_result"
    }
   ],
   "source": [
    "result_fitness = map(p -> eval_poly(a, p, [0, -0.545]), p_list)"
   ]
  },
  {
   "cell_type": "code",
   "execution_count": null,
   "id": "b1e689b1-f495-4c3f-9ac6-96b369248ee9",
   "metadata": {},
   "outputs": [],
   "source": []
  }
 ],
 "metadata": {
  "kernelspec": {
   "display_name": "Julia 1.6.3",
   "language": "julia",
   "name": "julia-1.6"
  },
  "language_info": {
   "file_extension": ".jl",
   "mimetype": "application/julia",
   "name": "julia",
   "version": "1.7.1"
  }
 },
 "nbformat": 4,
 "nbformat_minor": 5
}
